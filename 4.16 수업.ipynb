{
 "cells": [
  {
   "cell_type": "markdown",
   "id": "4e0e341d",
   "metadata": {},
   "source": [
    "## list 수업"
   ]
  },
  {
   "cell_type": "code",
   "execution_count": 7,
   "id": "f0ed0757",
   "metadata": {},
   "outputs": [
    {
     "name": "stdout",
     "output_type": "stream",
     "text": [
      "[1, 2, 3, 4, 5, 6, 7, 8, 9, 10]\n",
      "[2, 4, 6, 8, 10]\n"
     ]
    }
   ],
   "source": [
    "list1 = list(range(1,11))\n",
    "list2 =  []\n",
    "for i in list1 :\n",
    "    if i % 2 == 0 :\n",
    "        list2.append(i)\n",
    "print(list1)      \n",
    "print(list2)"
   ]
  },
  {
   "cell_type": "code",
   "execution_count": 8,
   "id": "9a19ed18",
   "metadata": {},
   "outputs": [
    {
     "name": "stdout",
     "output_type": "stream",
     "text": [
      "99\n",
      "[11, 22, 33, 44, 55, 66, 77, 88, 99]\n"
     ]
    }
   ],
   "source": [
    "n_list = [11,22,33,44,55,66,77,88,99]\n",
    "print(n_list[-1])\n",
    "print (n_list)"
   ]
  },
  {
   "cell_type": "code",
   "execution_count": 19,
   "id": "2449acf1",
   "metadata": {},
   "outputs": [
    {
     "name": "stdout",
     "output_type": "stream",
     "text": [
      "['a', 'b', 'c']\n",
      "c\n"
     ]
    }
   ],
   "source": [
    "a = [1, 2, 3, ['a', 'b', 'c']]\n",
    "print(a[3])\n",
    "print(a[3][2])"
   ]
  },
  {
   "cell_type": "code",
   "execution_count": 20,
   "id": "ba7f489f",
   "metadata": {},
   "outputs": [
    {
     "data": {
      "text/plain": [
       "[1, 2]"
      ]
     },
     "execution_count": 20,
     "metadata": {},
     "output_type": "execute_result"
    }
   ],
   "source": [
    "a = [1,2,3,4,5]\n",
    "a[0:2]"
   ]
  },
  {
   "cell_type": "code",
   "execution_count": 25,
   "id": "9d1a6137",
   "metadata": {},
   "outputs": [
    {
     "data": {
      "text/plain": [
       "[['a', 'b', 'c']]"
      ]
     },
     "execution_count": 25,
     "metadata": {},
     "output_type": "execute_result"
    }
   ],
   "source": [
    "a = [1,2,3,['a','b','c']]\n",
    "a[3:4]"
   ]
  },
  {
   "cell_type": "code",
   "execution_count": 35,
   "id": "6cf8d3d3",
   "metadata": {},
   "outputs": [
    {
     "name": "stdout",
     "output_type": "stream",
     "text": [
      "7\n",
      "[1, 2, 3, ['a', 'b', 'c']]\n",
      "[5, 6, 7]\n"
     ]
    },
    {
     "data": {
      "text/plain": [
       "[1, 2, 3, ['a', 'b', 'c'], 5, 6, 7]"
      ]
     },
     "execution_count": 35,
     "metadata": {},
     "output_type": "execute_result"
    }
   ],
   "source": [
    "b = [5,6,7]\n",
    "print(b[-1])\n",
    "print(a)\n",
    "print(b)\n",
    "a + b\n"
   ]
  },
  {
   "cell_type": "code",
   "execution_count": 45,
   "id": "bc57fe4c",
   "metadata": {},
   "outputs": [
    {
     "name": "stdout",
     "output_type": "stream",
     "text": [
      "[5, 6, 7]\n",
      "[5, 6, 7, 5, 6, 7, 5, 6, 7]\n",
      "3\n"
     ]
    }
   ],
   "source": [
    "print(b[0:])\n",
    "print(b*3)\n",
    "print(len(b))"
   ]
  },
  {
   "cell_type": "code",
   "execution_count": 54,
   "id": "b0405347",
   "metadata": {},
   "outputs": [
    {
     "data": {
      "text/plain": [
       "'3hi'"
      ]
     },
     "execution_count": 54,
     "metadata": {},
     "output_type": "execute_result"
    }
   ],
   "source": [
    "c = [1,2,3]\n",
    "c[2]\n",
    "str(c[2]) + 'hi'"
   ]
  },
  {
   "cell_type": "code",
   "execution_count": 56,
   "id": "946c7ac6",
   "metadata": {},
   "outputs": [
    {
     "name": "stdout",
     "output_type": "stream",
     "text": [
      "[1, 2]\n"
     ]
    }
   ],
   "source": [
    "del c[2]\n",
    "print(c)"
   ]
  },
  {
   "cell_type": "code",
   "execution_count": 65,
   "id": "5b2b811f",
   "metadata": {},
   "outputs": [
    {
     "data": {
      "text/plain": [
       "[7, 7, 7, 7, 7, 7, 6, 5, 5, 5, 3, 2, 1]"
      ]
     },
     "execution_count": 65,
     "metadata": {},
     "output_type": "execute_result"
    }
   ],
   "source": [
    "d = [1,2,3,4,5,6,7,7,7,7,7,7]\n",
    "d.append(5)\n",
    "d.insert(5,5)\n",
    "d.remove(4)\n",
    "d.sort()\n",
    "d.reverse()\n",
    "d"
   ]
  },
  {
   "cell_type": "code",
   "execution_count": 68,
   "id": "9ffd7899",
   "metadata": {},
   "outputs": [
    {
     "data": {
      "text/plain": [
       "[1, 2, 3, 4, 5, 6]"
      ]
     },
     "execution_count": 68,
     "metadata": {},
     "output_type": "execute_result"
    }
   ],
   "source": [
    "a = [1,2,3,4]\n",
    "a += [5,6]\n",
    "a"
   ]
  },
  {
   "cell_type": "code",
   "execution_count": 77,
   "id": "9c43728f",
   "metadata": {},
   "outputs": [],
   "source": [
    "a = ['a','b','c','d','n','v','re','f','t','ds','e','t','v']\n",
    "a.sort()"
   ]
  },
  {
   "cell_type": "markdown",
   "id": "cf00b028",
   "metadata": {},
   "source": [
    "## Dictionary 수업"
   ]
  },
  {
   "cell_type": "code",
   "execution_count": 82,
   "id": "6526a1c9",
   "metadata": {},
   "outputs": [
    {
     "data": {
      "text/plain": [
       "3"
      ]
     },
     "execution_count": 82,
     "metadata": {},
     "output_type": "execute_result"
    }
   ],
   "source": [
    "dic = {'name':'pey', 'phone':'0119993323', 'birth': '1118'}\n",
    "type(dic)\n",
    "len(dic)"
   ]
  },
  {
   "cell_type": "code",
   "execution_count": 90,
   "id": "f44acd8c",
   "metadata": {},
   "outputs": [
    {
     "data": {
      "text/plain": [
       "'b'"
      ]
     },
     "execution_count": 90,
     "metadata": {},
     "output_type": "execute_result"
    }
   ],
   "source": [
    "a = {1:'a'}\n",
    "a[2] = 'b'\n",
    "a['name'] = 'pey'\n",
    "a[3] = [1,2,3]\n",
    "del a[1]\n",
    "a[2]"
   ]
  },
  {
   "cell_type": "code",
   "execution_count": 105,
   "id": "ef5a1740",
   "metadata": {},
   "outputs": [
    {
     "name": "stdout",
     "output_type": "stream",
     "text": [
      "['피겨스케이팅', '야구', '축구', '파이썬']\n",
      "피겨스케이팅\n",
      "야구\n",
      "축구\n",
      "파이썬\n"
     ]
    }
   ],
   "source": [
    "data_dic  =  {\"김연아\":\"피겨스케이팅\", \"류현진\":\"야구\", \"박지성\":\"축구\", \"귀도\":\"파이썬\"}\n",
    "\n",
    "data_dic[\"김연아\"]\n",
    "data_dic.keys()\n",
    "data_dic.values()\n",
    "print(list(data_dic.values()))\n",
    "\n",
    "for i in data_dic.values():\n",
    "    print(i)\n"
   ]
  },
  {
   "cell_type": "code",
   "execution_count": 108,
   "id": "0f8e51a4",
   "metadata": {},
   "outputs": [
    {
     "data": {
      "text/plain": [
       "dict_items([('김연아', '피겨스케이팅'), ('류현진', '야구'), ('박지성', '축구'), ('귀도', '파이썬')])"
      ]
     },
     "execution_count": 108,
     "metadata": {},
     "output_type": "execute_result"
    }
   ],
   "source": [
    "data_dic.items()"
   ]
  },
  {
   "cell_type": "code",
   "execution_count": 113,
   "id": "f977a962",
   "metadata": {},
   "outputs": [
    {
     "data": {
      "text/plain": [
       "True"
      ]
     },
     "execution_count": 113,
     "metadata": {},
     "output_type": "execute_result"
    }
   ],
   "source": [
    "a = {'name':'pey', 'phone':'0119993323', 'birth': '1118'}\n",
    "'name' in a"
   ]
  },
  {
   "cell_type": "markdown",
   "id": "b1b61461",
   "metadata": {},
   "source": [
    "## class"
   ]
  },
  {
   "cell_type": "code",
   "execution_count": 7,
   "id": "25f0800d",
   "metadata": {},
   "outputs": [],
   "source": [
    "from datetime import datetime"
   ]
  },
  {
   "cell_type": "code",
   "execution_count": 9,
   "id": "3c34d7ee",
   "metadata": {},
   "outputs": [
    {
     "name": "stdout",
     "output_type": "stream",
     "text": [
      "2021-04-16 17:29:14.103767\n"
     ]
    }
   ],
   "source": [
    "print(datetime.now())"
   ]
  },
  {
   "cell_type": "code",
   "execution_count": 13,
   "id": "927ab12e",
   "metadata": {},
   "outputs": [
    {
     "name": "stdout",
     "output_type": "stream",
     "text": [
      "<class 'numpy.ndarray'>\n"
     ]
    }
   ],
   "source": [
    "import numpy as np\n",
    "b = np.array([1,2,3])\n",
    "print(type(b))"
   ]
  },
  {
   "cell_type": "code",
   "execution_count": null,
   "id": "722cd06e",
   "metadata": {},
   "outputs": [],
   "source": []
  }
 ],
 "metadata": {
  "kernelspec": {
   "display_name": "Python 3",
   "language": "python",
   "name": "python3"
  },
  "language_info": {
   "codemirror_mode": {
    "name": "ipython",
    "version": 3
   },
   "file_extension": ".py",
   "mimetype": "text/x-python",
   "name": "python",
   "nbconvert_exporter": "python",
   "pygments_lexer": "ipython3",
   "version": "3.8.9"
  }
 },
 "nbformat": 4,
 "nbformat_minor": 5
}
